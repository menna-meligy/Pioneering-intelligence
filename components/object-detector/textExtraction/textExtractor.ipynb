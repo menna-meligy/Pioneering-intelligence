{
 "cells": [
  {
   "cell_type": "code",
   "execution_count": 1,
   "metadata": {},
   "outputs": [
    {
     "name": "stdout",
     "output_type": "stream",
     "text": [
      "Collecting pytesseract\n",
      "  Downloading pytesseract-0.3.10-py3-none-any.whl.metadata (11 kB)\n",
      "Collecting packaging>=21.3 (from pytesseract)\n",
      "  Downloading packaging-23.2-py3-none-any.whl.metadata (3.2 kB)\n",
      "Requirement already satisfied: Pillow>=8.0.0 in c:\\python\\python37\\lib\\site-packages (from pytesseract) (9.5.0)\n",
      "Downloading pytesseract-0.3.10-py3-none-any.whl (14 kB)\n",
      "Downloading packaging-23.2-py3-none-any.whl (53 kB)\n",
      "   ---------------------------------------- 53.0/53.0 kB 1.4 MB/s eta 0:00:00\n",
      "Installing collected packages: packaging, pytesseract\n",
      "  Attempting uninstall: packaging\n",
      "    Found existing installation: packaging 20.9\n",
      "    Uninstalling packaging-20.9:\n",
      "      Successfully uninstalled packaging-20.9\n",
      "Successfully installed packaging-23.2 pytesseract-0.3.10\n"
     ]
    },
    {
     "name": "stderr",
     "output_type": "stream",
     "text": [
      "ERROR: pip's dependency resolver does not currently take into account all the packages that are installed. This behaviour is the source of the following dependency conflicts.\n",
      "tensorflow-intel 2.11.0 requires flatbuffers>=2.0, but you have flatbuffers 1.12 which is incompatible.\n",
      "tensorflow-intel 2.11.0 requires keras<2.12,>=2.11.0, but you have keras 2.9.0 which is incompatible.\n",
      "tensorflow-intel 2.11.0 requires protobuf<3.20,>=3.9.2, but you have protobuf 3.20.0 which is incompatible.\n",
      "tensorflow-intel 2.11.0 requires tensorboard<2.12,>=2.11, but you have tensorboard 2.9.0 which is incompatible.\n",
      "tensorflow-intel 2.11.0 requires tensorflow-estimator<2.12,>=2.11.0, but you have tensorflow-estimator 2.9.0 which is incompatible.\n",
      "tensorflowjs 3.19.0 requires packaging~=20.9, but you have packaging 23.2 which is incompatible.\n"
     ]
    }
   ],
   "source": [
    "!pip install pytesseract"
   ]
  },
  {
   "cell_type": "code",
   "execution_count": 5,
   "metadata": {},
   "outputs": [
    {
     "name": "stdout",
     "output_type": "stream",
     "text": [
      "Collecting packaging==23.2\n",
      "  Using cached packaging-23.2-py3-none-any.whl.metadata (3.2 kB)\n",
      "Using cached packaging-23.2-py3-none-any.whl (53 kB)\n",
      "Installing collected packages: packaging\n",
      "  Attempting uninstall: packaging\n",
      "    Found existing installation: packaging 20.9\n",
      "    Uninstalling packaging-20.9:\n",
      "      Successfully uninstalled packaging-20.9\n",
      "Successfully installed packaging-23.2\n"
     ]
    },
    {
     "name": "stderr",
     "output_type": "stream",
     "text": [
      "ERROR: pip's dependency resolver does not currently take into account all the packages that are installed. This behaviour is the source of the following dependency conflicts.\n",
      "tensorflow-intel 2.11.0 requires flatbuffers>=2.0, but you have flatbuffers 1.12 which is incompatible.\n",
      "tensorflow-intel 2.11.0 requires keras<2.12,>=2.11.0, but you have keras 2.9.0 which is incompatible.\n",
      "tensorflow-intel 2.11.0 requires protobuf<3.20,>=3.9.2, but you have protobuf 3.20.0 which is incompatible.\n",
      "tensorflow-intel 2.11.0 requires tensorboard<2.12,>=2.11, but you have tensorboard 2.9.0 which is incompatible.\n",
      "tensorflow-intel 2.11.0 requires tensorflow-estimator<2.12,>=2.11.0, but you have tensorflow-estimator 2.9.0 which is incompatible.\n",
      "tensorflowjs 3.19.0 requires packaging~=20.9, but you have packaging 23.2 which is incompatible.\n"
     ]
    }
   ],
   "source": [
    "!pip install --upgrade packaging==23.2\n",
    "\n"
   ]
  },
  {
   "cell_type": "code",
   "execution_count": 6,
   "metadata": {},
   "outputs": [
    {
     "name": "stdout",
     "output_type": "stream",
     "text": [
      "Requirement already satisfied: pytesseract in c:\\python\\python37\\lib\\site-packages (0.3.10)\n",
      "Requirement already satisfied: packaging>=21.3 in c:\\python\\python37\\lib\\site-packages (from pytesseract) (23.2)\n",
      "Requirement already satisfied: Pillow>=8.0.0 in c:\\python\\python37\\lib\\site-packages (from pytesseract) (9.5.0)\n"
     ]
    }
   ],
   "source": [
    "!pip install --upgrade pytesseract\n"
   ]
  },
  {
   "cell_type": "code",
   "execution_count": 8,
   "metadata": {},
   "outputs": [
    {
     "name": "stdout",
     "output_type": "stream",
     "text": [
      "Requirement already satisfied: pytesseract in c:\\python\\python37\\lib\\site-packages (0.3.10)\n",
      "Requirement already satisfied: packaging>=21.3 in c:\\python\\python37\\lib\\site-packages (from pytesseract) (23.2)\n",
      "Requirement already satisfied: Pillow>=8.0.0 in c:\\python\\python37\\lib\\site-packages (from pytesseract) (9.5.0)\n"
     ]
    }
   ],
   "source": [
    "!pip install --upgrade pytesseract\n"
   ]
  },
  {
   "cell_type": "code",
   "execution_count": 30,
   "metadata": {},
   "outputs": [
    {
     "name": "stdout",
     "output_type": "stream",
     "text": [
      "Requirement already satisfied: pillow in c:\\python\\python37\\lib\\site-packages (9.5.0)\n",
      "Requirement already satisfied: pytesseract in c:\\python\\python37\\lib\\site-packages (0.3.10)\n",
      "Requirement already satisfied: packaging>=21.3 in c:\\python\\python37\\lib\\site-packages (from pytesseract) (23.2)\n"
     ]
    }
   ],
   "source": [
    "!pip install pillow pytesseract\n"
   ]
  },
  {
   "cell_type": "code",
   "execution_count": 31,
   "metadata": {},
   "outputs": [],
   "source": [
    "from PIL import Image \n",
    "from pytesseract import pytesseract\n",
    "import enum"
   ]
  },
  {
   "cell_type": "code",
   "execution_count": 32,
   "metadata": {},
   "outputs": [],
   "source": [
    "class OS(enum.Enum):\n",
    "    Mac = 0\n",
    "    Windows = 1"
   ]
  },
  {
   "cell_type": "code",
   "execution_count": 33,
   "metadata": {},
   "outputs": [],
   "source": [
    "\n",
    "class Language(enum.Enum):\n",
    "    ENG = 'eng'\n",
    "    RUS = 'rus'\n",
    "    ITA = 'ita'\n",
    "    FRA = 'fra'  # French\n",
    "    SPA = 'spa'  # Spanish\n",
    "    DEU = 'deu'  # German\n",
    "    POR = 'por'  # Portuguese\n",
    "    NLD = 'nld'  # Dutch\n",
    "    SWE = 'swe'  # Swedish\n",
    "    DAN = 'dan'  # Danish\n",
    "    NOR = 'nor'  # Norwegian\n",
    "    FIN = 'fin'  # Finnish\n",
    "    POL = 'pol'  # Polish\n",
    "    TUR = 'tur'  # Turkish\n",
    "    HUN = 'hun'  # Hungarian\n",
    "    CES = 'ces'  # Czech\n",
    "    SLK = 'slk'  # Slovak\n",
    "    ELL = 'ell'  # Greek\n",
    "    HRV = 'hrv'  # Croatian\n",
    "    SRP = 'srp'  # Serbian\n",
    "    BUL = 'bul'  # Bulgarian\n",
    "    UKR = 'ukr'  # Ukrainian\n",
    "    LAV = 'lav'  # Latvian\n",
    "    LIT = 'lit'  # Lithuanian\n",
    "    EST = 'est'  # Estonian\n",
    "    MKD = 'mkd'  # Macedonian\n",
    "    SLV = 'slv'  # Slovenian\n",
    "    CAT = 'cat'  # Catalan\n",
    "    GLG = 'glg'  # Galician\n",
    "    MAL = 'mal'  # Malayalam\n",
    "    KOR = 'kor'  # Korean\n",
    "    JPN = 'jpn'  # Japanese\n",
    "    ZHO = 'chi_sim'  # Chinese (Simplified)\n",
    "    CHI_TRA = 'chi_tra'  # Chinese (Traditional)\n",
    "    ARA = 'ara'  # Arabic\n",
    "    THA = 'tha'  # Thai\n",
    "    IND = 'ind'  # Indonesian"
   ]
  },
  {
   "cell_type": "code",
   "execution_count": 38,
   "metadata": {},
   "outputs": [],
   "source": [
    "class ImageReader:\n",
    "    def __init__(self , os : OS):\n",
    "        if os == OS.Mac:\n",
    "            print(\"Running on :MAC\\n\")\n",
    "        if os == OS.Windows:\n",
    "            # C:\\Program Files (x86)\\Tesseract-OCR\n",
    "            windows_path = r'C:\\Program Files (x86)\\Tesseract-OCR\\tesseract.exe'\n",
    "            pytesseract.tesseract_cmd= windows_path\n",
    "            print('running on : windows\\n')\n",
    "    def extract_text(self , image : str , lang : str) -> str: \n",
    "        img = Image.open(image)\n",
    "        extracted_text = pytesseract.image_to_string(img , lang=lang)\n",
    "        return extracted_text\n",
    "            "
   ]
  },
  {
   "cell_type": "code",
   "execution_count": 23,
   "metadata": {},
   "outputs": [],
   "source": []
  },
  {
   "cell_type": "code",
   "execution_count": 39,
   "metadata": {},
   "outputs": [
    {
     "name": "stdout",
     "output_type": "stream",
     "text": [
      "running on : windows\n",
      "\n"
     ]
    },
    {
     "name": "stdout",
     "output_type": "stream",
     "text": [
      "D\n",
      "E\n",
      "\n",
      "Done Q: 1:\n",
      "\n",
      "Its easy to create a PDF wxth\n",
      "the exact content you want\n",
      "\n",
      "Make trusted PDFs. Acrobat\n",
      "lets you turn practxcalty\n",
      "anythxng into a hignqualxty\n",
      "PDF that looks great on any\n",
      "screen Create a PDF from\n",
      "Microsoft Ofﬁce ﬁles, a web\n",
      "page, scanned documents, and more.\n",
      "\n",
      " \n",
      "\n",
      "Merge multiple files into one FDF. Combine dwfferent ﬁle\n",
      "types—spreadsheets, wrnages, presentatwons, and web\n",
      "pages—Into a smgte PDF ﬁle that‘: easy to share or archwe\n",
      "\n",
      "T 'rT .\n",
      "\n",
      "\n"
     ]
    }
   ],
   "source": [
    "if __name__ == '__main__':\n",
    "    ir = ImageReader(OS.Windows)\n",
    "    text = ir.extract_text('add-text.png' , lang='eng')\n",
    "    print(text)\n",
    "    \n",
    "    "
   ]
  },
  {
   "cell_type": "code",
   "execution_count": 43,
   "metadata": {},
   "outputs": [],
   "source": [
    "from tensorflow.keras.layers import TimeDistributed, LSTM, Dense\n",
    "\n",
    "lstm_model = Sequential([\n",
    "    LSTM(64, input_shape=(256, 256)),\n",
    "    Dense(256, activation='softmax')\n",
    "])"
   ]
  },
  {
   "cell_type": "code",
   "execution_count": 45,
   "metadata": {},
   "outputs": [],
   "source": [
    "import tensorflowjs as tsjs"
   ]
  },
  {
   "cell_type": "code",
   "execution_count": 46,
   "metadata": {},
   "outputs": [
    {
     "name": "stdout",
     "output_type": "stream",
     "text": [
      "WARNING:tensorflow:Compiled the loaded model, but the compiled metrics have yet to be built. `model.compile_metrics` will be empty until you train or evaluate the model.\n"
     ]
    }
   ],
   "source": [
    "tsjs.converters.save_keras_model(lstm_model , 'lstm_model' )"
   ]
  },
  {
   "cell_type": "code",
   "execution_count": null,
   "metadata": {},
   "outputs": [],
   "source": []
  }
 ],
 "metadata": {
  "kernelspec": {
   "display_name": "Python 3",
   "language": "python",
   "name": "python3"
  },
  "language_info": {
   "codemirror_mode": {
    "name": "ipython",
    "version": 3
   },
   "file_extension": ".py",
   "mimetype": "text/x-python",
   "name": "python",
   "nbconvert_exporter": "python",
   "pygments_lexer": "ipython3",
   "version": "3.7.0"
  }
 },
 "nbformat": 4,
 "nbformat_minor": 2
}
